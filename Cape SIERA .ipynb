{
 "cells": [
  {
   "cell_type": "code",
   "execution_count": 1,
   "id": "584e9bd2",
   "metadata": {},
   "outputs": [],
   "source": [
    "# Load Libraries\n",
    "import pandas as pd\n",
    "import pickle\n",
    "from pandas import DataFrame, Series\n",
    "from sklearn.ensemble import RandomForestClassifier,RandomForestRegressor\n",
    "from sklearn.preprocessing import StandardScaler\n",
    "import numpy as np\n",
    "import seaborn as sns\n",
    "import statsmodels.api as sm\n",
    "from sklearn import linear_model, naive_bayes\n",
    "from sklearn.datasets import make_regression\n",
    "from sklearn.model_selection import train_test_split, cross_val_score\n",
    "from sklearn.naive_bayes import GaussianNB\n",
    "from sklearn.naive_bayes import MultinomialNB\n",
    "from sklearn.tree import DecisionTreeRegressor\n",
    "from sklearn import svm\n",
    "from statsmodels.stats.outliers_influence import variance_inflation_factor\n",
    "import matplotlib.pyplot as plt\n",
    "from sklearn.metrics import mean_squared_error,r2_score\n",
    "import pybaseball as pyb\n",
    "from pybaseball import statcast\n",
    "import xgboost as xgb\n",
    "from xgboost import XGBRegressor, XGBClassifier\n",
    "from keras.models import Sequential\n",
    "from keras.layers import Dense\n",
    "from sklearn.linear_model import LinearRegression\n",
    "from sklearn.svm import SVR\n",
    "from sklearn import model_selection\n",
    "from sklearn.linear_model import LogisticRegression\n",
    "from sklearn.tree import DecisionTreeClassifier\n",
    "from sklearn.neighbors import KNeighborsClassifier\n",
    "from sklearn.svm import SVC\n",
    "from sklearn.ensemble import VotingClassifier\n",
    "from sklearn.metrics import classification_report, confusion_matrix ,accuracy_score\n",
    "from sklearn.model_selection import GridSearchCV\n",
    "from sklearn.model_selection import KFold\n",
    "from sklearn.pipeline import Pipeline"
   ]
  },
  {
   "cell_type": "code",
   "execution_count": 108,
   "id": "643bb493",
   "metadata": {},
   "outputs": [
    {
     "name": "stderr",
     "output_type": "stream",
     "text": [
      "C:\\Users\\genoc\\Anaconda3\\lib\\site-packages\\pandas\\core\\frame.py:4441: SettingWithCopyWarning: \n",
      "A value is trying to be set on a copy of a slice from a DataFrame\n",
      "\n",
      "See the caveats in the documentation: https://pandas.pydata.org/pandas-docs/stable/user_guide/indexing.html#returning-a-view-versus-a-copy\n",
      "  return super().rename(\n",
      "<ipython-input-108-0568b319a265>:15: SettingWithCopyWarning: \n",
      "A value is trying to be set on a copy of a slice from a DataFrame.\n",
      "Try using .loc[row_indexer,col_indexer] = value instead\n",
      "\n",
      "See the caveats in the documentation: https://pandas.pydata.org/pandas-docs/stable/user_guide/indexing.html#returning-a-view-versus-a-copy\n",
      "  dft['Differential Break'] = (dft['Induced Vertical Break'] - dft['Horizontal Break']).abs()\n",
      "<ipython-input-108-0568b319a265>:24: SettingWithCopyWarning: \n",
      "A value is trying to be set on a copy of a slice from a DataFrame.\n",
      "Try using .loc[row_indexer,col_indexer] = value instead\n",
      "\n",
      "See the caveats in the documentation: https://pandas.pydata.org/pandas-docs/stable/user_guide/indexing.html#returning-a-view-versus-a-copy\n",
      "  dft['Horizontal Break'] = abs(dft['Horizontal Break'])\n",
      "<ipython-input-108-0568b319a265>:26: SettingWithCopyWarning: \n",
      "A value is trying to be set on a copy of a slice from a DataFrame.\n",
      "Try using .loc[row_indexer,col_indexer] = value instead\n",
      "\n",
      "See the caveats in the documentation: https://pandas.pydata.org/pandas-docs/stable/user_guide/indexing.html#returning-a-view-versus-a-copy\n",
      "  dft['Release Side'] = abs(dft['Release Side'])\n",
      "<ipython-input-108-0568b319a265>:29: SettingWithCopyWarning: \n",
      "A value is trying to be set on a copy of a slice from a DataFrame.\n",
      "Try using .loc[row_indexer,col_indexer] = value instead\n",
      "\n",
      "See the caveats in the documentation: https://pandas.pydata.org/pandas-docs/stable/user_guide/indexing.html#returning-a-view-versus-a-copy\n",
      "  dft['Pitcher'] = dft['Pitcher'].str.split(' ', expand=True)[1] + ' ' + dft['Pitcher'].str.split(' ', expand=True)[0]\n",
      "<ipython-input-108-0568b319a265>:32: SettingWithCopyWarning: \n",
      "A value is trying to be set on a copy of a slice from a DataFrame.\n",
      "Try using .loc[row_indexer,col_indexer] = value instead\n",
      "\n",
      "See the caveats in the documentation: https://pandas.pydata.org/pandas-docs/stable/user_guide/indexing.html#returning-a-view-versus-a-copy\n",
      "  dft['Batter'] = dft['Batter'].str.split(' ', expand=True)[1] + ' ' + dft['Batter'].str.split(' ', expand=True)[0]\n"
     ]
    }
   ],
   "source": [
    "# Import Data\n",
    "df = pd.read_csv(\"/Users/genoc/Desktop/HyannisHarborHawks/Trackman/CapeTrackmanDatabase.csv\",low_memory=False)\n",
    "\n",
    "# Clean Trackman Data\n",
    "dft = df[['Pitcher', 'PitcherTeam', 'Batter', 'BatterTeam', 'PitcherThrows', 'RelSpeed','SpinRate','RelHeight','RelSide','Extension','InducedVertBreak', 'HorzBreak', 'PitchCall', 'PlayResult', 'TaggedHitType', 'KorBB', 'PitchofPA']]\n",
    "\n",
    "#Rename the columns to be more descriptive\n",
    "dft.rename(columns={'BatterTeam':'Batter Team', 'PitcherTeam':'Pitcher Team', 'PitcherThrows':'P Side', 'RelSpeed':'Velocity', 'SpinRate':'Spin Rate', 'RelHeight':'Release Height', 'RelSide':'Release Side', 'Extension':'Extension', 'InducedVertBreak':'Induced Vertical Break', 'HorzBreak':'Horizontal Break', 'PitchCall':'Pitch Call', 'PlayResult':'Play Result', 'TaggedHitType':'Hit Type'}, inplace=True)\n",
    "\n",
    "#Add the Pitch Type and Pitch Result to the new dataframe\n",
    "dft.insert(1, 'Pitch Type', df['TaggedPitchType'])\n",
    "dft.insert(2, 'Pitch Result', df['PitchCall'])\n",
    "\n",
    "#Create a new column for the difference between the Induced Vertical Break and the Horizontal Break (Absolute Value)\n",
    "dft['Differential Break'] = (dft['Induced Vertical Break'] - dft['Horizontal Break']).abs()\n",
    "\n",
    "#Add two new columns for Pitch Location\n",
    "dft.insert(10, 'Pitch Height', df['PlateLocHeight'])\n",
    "dft.insert(11, 'Pitch Side', df['PlateLocSide'])\n",
    "dft.insert(12, 'Vertical Approach Angle', df['VertApprAngle'])\n",
    "dft.insert(13, 'Horizontal Approach Angle', df['HorzApprAngle'])\n",
    "\n",
    "#Edit Horizontal Break to be absolute value of horizontal break\n",
    "dft['Horizontal Break'] = abs(dft['Horizontal Break'])\n",
    "\n",
    "dft['Release Side'] = abs(dft['Release Side'])\n",
    "\n",
    "# Edit the pitcher names so the first name is first and the last name is last\n",
    "dft['Pitcher'] = dft['Pitcher'].str.split(' ', expand=True)[1] + ' ' + dft['Pitcher'].str.split(' ', expand=True)[0]\n",
    "\n",
    "# Edit the batter names so the first name is first and the last name is last\n",
    "dft['Batter'] = dft['Batter'].str.split(' ', expand=True)[1] + ' ' + dft['Batter'].str.split(' ', expand=True)[0]\n",
    "\n",
    "# Remove the comma from the last name\n",
    "dft = dft.replace(',', '', regex=True)"
   ]
  },
  {
   "cell_type": "code",
   "execution_count": 109,
   "id": "98807b25",
   "metadata": {},
   "outputs": [],
   "source": [
    "# Calculate the number of plate appearances, walks, strikeouts, popups, flyballs, and groundballs for each pitcher\n",
    "pitcher_stats = dft.groupby('Pitcher').agg(\n",
    "    Walks=('KorBB', lambda x: (x == 'Walk').sum()),\n",
    "    Strikeouts=('KorBB', lambda x: (x == 'Strikeout').sum()),\n",
    "    Popups=('Hit Type', lambda x: (x == 'Popup').sum()),\n",
    "    Flyballs=('Hit Type', lambda x: (x == 'FlyBall').sum()),\n",
    "    Groundballs=('Hit Type', lambda x: (x == 'GroundBall').sum()),\n",
    "    Linedrives=('Hit Type', lambda x: (x == 'LineDrive').sum())\n",
    ").reset_index()\n",
    "\n",
    "pitcher_pa = dft[dft['PitchofPA'] == 1].groupby('Pitcher').agg(\n",
    "    PlateAppearances=('PitchofPA', 'count')\n",
    ").reset_index()\n",
    "\n",
    "# Rename columns for clarity\n",
    "pitcher_stats.rename(columns={\n",
    "    'Walks': 'Total Walks',\n",
    "    'Strikeouts': 'Total Strikeouts',\n",
    "    'Popups': 'Total Popups',\n",
    "    'Flyballs': 'Total Flyballs',\n",
    "    'Groundballs': 'Total Groundballs',\n",
    "    'Linedrives': 'Total Linedrives'\n",
    "}, inplace=True)\n",
    "\n",
    "# Create the df_siera dataframe\n",
    "df_siera = pd.DataFrame(pitcher_stats)"
   ]
  },
  {
   "cell_type": "code",
   "execution_count": 110,
   "id": "5515be3d",
   "metadata": {},
   "outputs": [],
   "source": [
    "df_siera['Plate Appearances'] = df_siera['Total Walks'] + df_siera['Total Strikeouts'] + df_siera['Total Popups'] + df_siera['Total Flyballs'] + df_siera['Total Groundballs'] + df_siera['Total Linedrives'] \n",
    "\n",
    "comp1 = 16.986 * (df_siera['Total Strikeouts'] / df_siera['Plate Appearances'])\n",
    "comp2 = 11.434 * (df_siera['Total Walks'] / df_siera['Plate Appearances'])\n",
    "comp3 = 1.858 * ((df_siera['Total Groundballs'] - df_siera['Total Flyballs'] - df_siera['Total Popups']) / df_siera['Plate Appearances'])\n",
    "comp4 = 7.653 * pow((df_siera['Total Strikeouts'] / df_siera['Plate Appearances']), 2)\n",
    "comp5 = 6.664 * pow(((df_siera['Total Groundballs'] - df_siera['Total Flyballs'] - df_siera['Total Popups']) / df_siera['Plate Appearances']), 2)\n",
    "comp6 = 10.130 * (df_siera['Total Strikeouts'] / df_siera['Plate Appearances']) * ((df_siera['Total Groundballs'] - df_siera['Total Flyballs'] - df_siera['Total Popups']) / df_siera['Plate Appearances'])\n",
    "comp7 = 5.195 * (df_siera['Total Walks'] / df_siera['Plate Appearances']) * ((df_siera['Total Groundballs'] - df_siera['Total Flyballs'] - df_siera['Total Popups']) / df_siera['Plate Appearances'])\n",
    "\n",
    "df_siera['SIERA'] = 6.145 - comp1 + comp2 - comp3 + comp4 + comp5 + comp6 - comp7"
   ]
  },
  {
   "cell_type": "code",
   "execution_count": 111,
   "id": "7b9fe18b",
   "metadata": {},
   "outputs": [
    {
     "data": {
      "text/plain": [
       "count    361.000000\n",
       "mean       4.667398\n",
       "std        2.274350\n",
       "min       -2.669000\n",
       "25%        3.310229\n",
       "50%        4.464751\n",
       "75%        5.557719\n",
       "max       16.281889\n",
       "Name: SIERA, dtype: float64"
      ]
     },
     "execution_count": 111,
     "metadata": {},
     "output_type": "execute_result"
    }
   ],
   "source": [
    "df_siera['SIERA'].describe()"
   ]
  },
  {
   "cell_type": "code",
   "execution_count": 114,
   "id": "206f67f0",
   "metadata": {},
   "outputs": [],
   "source": [
    "siera_df_sorted = df_siera.sort_values(by='SIERA', ascending=True)\n",
    "siera_df_sorted = siera_df_sorted[(siera_df_sorted['Plate Appearances'] >= 6)]"
   ]
  },
  {
   "cell_type": "code",
   "execution_count": 115,
   "id": "573871a8",
   "metadata": {},
   "outputs": [
    {
     "data": {
      "text/plain": [
       "4.497177664056897"
      ]
     },
     "execution_count": 115,
     "metadata": {},
     "output_type": "execute_result"
    }
   ],
   "source": [
    "siera_df_sorted['SIERA'].mean()"
   ]
  },
  {
   "cell_type": "code",
   "execution_count": 51,
   "id": "08da11db",
   "metadata": {},
   "outputs": [],
   "source": [
    "# SIERA MEAN VALUES BY TEAM\n",
    "\n",
    "# Hyannis: 3.74\n",
    "# Cotuit: 4.27\n",
    "# Falmouth: 3.99\n",
    "# Bourne: 3.76\n",
    "# Wareham: 5.38\n",
    "# Brewster: 4.62\n",
    "# YD: 4.30\n",
    "# Orleans: 4.95\n",
    "# Chatham: 4.65\n",
    "# Harwich: 3.85"
   ]
  }
 ],
 "metadata": {
  "kernelspec": {
   "display_name": "Python 3",
   "language": "python",
   "name": "python3"
  },
  "language_info": {
   "codemirror_mode": {
    "name": "ipython",
    "version": 3
   },
   "file_extension": ".py",
   "mimetype": "text/x-python",
   "name": "python",
   "nbconvert_exporter": "python",
   "pygments_lexer": "ipython3",
   "version": "3.8.8"
  }
 },
 "nbformat": 4,
 "nbformat_minor": 5
}
