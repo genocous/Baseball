{
 "cells": [
  {
   "cell_type": "code",
   "execution_count": 1,
   "id": "8d2a0058",
   "metadata": {},
   "outputs": [],
   "source": [
    "# Load Libraries\n",
    "import pandas as pd\n",
    "import pickle\n",
    "from pandas import DataFrame, Series\n",
    "from sklearn.ensemble import RandomForestClassifier,RandomForestRegressor\n",
    "from sklearn.preprocessing import StandardScaler\n",
    "import numpy as np\n",
    "import seaborn as sns\n",
    "import statsmodels.api as sm\n",
    "from sklearn import linear_model, naive_bayes\n",
    "from sklearn.datasets import make_regression\n",
    "from sklearn.model_selection import train_test_split, cross_val_score\n",
    "from sklearn.naive_bayes import GaussianNB\n",
    "from sklearn.naive_bayes import MultinomialNB\n",
    "from sklearn.metrics import confusion_matrix\n",
    "from sklearn.tree import DecisionTreeRegressor\n",
    "from sklearn import svm\n",
    "from statsmodels.stats.outliers_influence import variance_inflation_factor\n",
    "import matplotlib.pyplot as plt\n",
    "from sklearn.metrics import mean_squared_error,r2_score\n",
    "import pybaseball as pyb\n",
    "from pybaseball import statcast\n",
    "import xgboost as xgb\n",
    "from xgboost import XGBRegressor, XGBClassifier"
   ]
  },
  {
   "cell_type": "code",
   "execution_count": 2,
   "id": "97039d6f",
   "metadata": {},
   "outputs": [],
   "source": [
    "# Import Data\n",
    "df = pd.read_csv(\"/Users/genoc/Desktop/HyannisHarborHawks/Trackman/CapeTrackmanDatabase.csv\",low_memory=False)"
   ]
  },
  {
   "cell_type": "code",
   "execution_count": 3,
   "id": "e2b9d99a",
   "metadata": {},
   "outputs": [
    {
     "name": "stderr",
     "output_type": "stream",
     "text": [
      "C:\\Users\\genoc\\Anaconda3\\lib\\site-packages\\pandas\\core\\frame.py:4441: SettingWithCopyWarning: \n",
      "A value is trying to be set on a copy of a slice from a DataFrame\n",
      "\n",
      "See the caveats in the documentation: https://pandas.pydata.org/pandas-docs/stable/user_guide/indexing.html#returning-a-view-versus-a-copy\n",
      "  return super().rename(\n",
      "<ipython-input-3-5b78fb82dc15>:12: SettingWithCopyWarning: \n",
      "A value is trying to be set on a copy of a slice from a DataFrame.\n",
      "Try using .loc[row_indexer,col_indexer] = value instead\n",
      "\n",
      "See the caveats in the documentation: https://pandas.pydata.org/pandas-docs/stable/user_guide/indexing.html#returning-a-view-versus-a-copy\n",
      "  dft['Differential Break'] = (dft['Induced Vertical Break'] - dft['Horizontal Break']).abs()\n",
      "<ipython-input-3-5b78fb82dc15>:19: SettingWithCopyWarning: \n",
      "A value is trying to be set on a copy of a slice from a DataFrame.\n",
      "Try using .loc[row_indexer,col_indexer] = value instead\n",
      "\n",
      "See the caveats in the documentation: https://pandas.pydata.org/pandas-docs/stable/user_guide/indexing.html#returning-a-view-versus-a-copy\n",
      "  dft['Horizontal Break'] = abs(dft['Horizontal Break'])\n",
      "<ipython-input-3-5b78fb82dc15>:22: SettingWithCopyWarning: \n",
      "A value is trying to be set on a copy of a slice from a DataFrame.\n",
      "Try using .loc[row_indexer,col_indexer] = value instead\n",
      "\n",
      "See the caveats in the documentation: https://pandas.pydata.org/pandas-docs/stable/user_guide/indexing.html#returning-a-view-versus-a-copy\n",
      "  dft['Pitcher'] = dft['Pitcher'].str.split(' ', expand=True)[1] + ' ' + dft['Pitcher'].str.split(' ', expand=True)[0]\n",
      "<ipython-input-3-5b78fb82dc15>:25: SettingWithCopyWarning: \n",
      "A value is trying to be set on a copy of a slice from a DataFrame.\n",
      "Try using .loc[row_indexer,col_indexer] = value instead\n",
      "\n",
      "See the caveats in the documentation: https://pandas.pydata.org/pandas-docs/stable/user_guide/indexing.html#returning-a-view-versus-a-copy\n",
      "  dft['Batter'] = dft['Batter'].str.split(' ', expand=True)[1] + ' ' + dft['Batter'].str.split(' ', expand=True)[0]\n"
     ]
    }
   ],
   "source": [
    "# Clean Trackman Data\n",
    "dft = df[['Pitcher', 'PitcherTeam', 'Batter', 'BatterTeam', 'PitcherThrows', 'RelSpeed','SpinRate','RelHeight','RelSide','Extension','InducedVertBreak', 'HorzBreak', 'PitchCall', 'PlayResult', 'TaggedHitType', 'KorBB']]\n",
    "\n",
    "#Rename the columns to be more descriptive\n",
    "dft.rename(columns={'BatterTeam':'Batter Team', 'PitcherTeam':'Pitcher Team', 'PitcherThrows':'P Side', 'RelSpeed':'Velocity', 'SpinRate':'Spin Rate', 'RelHeight':'Release Height', 'RelSide':'Release Side', 'Extension':'Extension', 'InducedVertBreak':'Induced Vertical Break', 'HorzBreak':'Horizontal Break', 'PitchCall':'Pitch Call', 'PlayResult':'Play Result', 'TaggedHitType':'Hit Type'}, inplace=True)\n",
    "\n",
    "#Add the Pitch Type and Pitch Result to the new dataframe\n",
    "dft.insert(1, 'Pitch Type', df['TaggedPitchType'])\n",
    "dft.insert(2, 'Pitch Result', df['PitchCall'])\n",
    "\n",
    "#Create a new column for the difference between the Induced Vertical Break and the Horizontal Break (Absolute Value)\n",
    "dft['Differential Break'] = (dft['Induced Vertical Break'] - dft['Horizontal Break']).abs()\n",
    "\n",
    "#Add two new columns for Pitch Location\n",
    "dft.insert(10, 'Pitch Height', df['PlateLocHeight'])\n",
    "dft.insert(11, 'Pitch Side', df['PlateLocSide'])\n",
    "\n",
    "#Edit Horizontal Break to be absolute value of horizontal break\n",
    "dft['Horizontal Break'] = abs(dft['Horizontal Break'])\n",
    "\n",
    "# Edit the pitcher names so the first name is first and the last name is last\n",
    "dft['Pitcher'] = dft['Pitcher'].str.split(' ', expand=True)[1] + ' ' + dft['Pitcher'].str.split(' ', expand=True)[0]\n",
    "\n",
    "# Edit the batter names so the first name is first and the last name is last\n",
    "dft['Batter'] = dft['Batter'].str.split(' ', expand=True)[1] + ' ' + dft['Batter'].str.split(' ', expand=True)[0]\n",
    "\n",
    "# Remove the comma from the last name\n",
    "dft = dft.replace(',', '', regex=True)"
   ]
  },
  {
   "cell_type": "code",
   "execution_count": 4,
   "id": "4c8226e6",
   "metadata": {},
   "outputs": [],
   "source": [
    "def categorize_os(dft):\n",
    "    # Replace 'slider' with 'sweeper' or 'gyro' based on horizontal break values\n",
    "    dft.loc[(dft['Pitch Type'] == 'Slider') & (dft['Horizontal Break'] > 14), 'Pitch Type'] = 'Sweeper'\n",
    "    dft.loc[dft['Pitch Type'] == 'Slider', 'Pitch Type'] = 'Gyro'\n",
    "    \n",
    "    \n",
    "    return dft\n",
    "\n",
    "# Call the function to categorize sliders in the dataframe\n",
    "dft = categorize_os(dft)"
   ]
  },
  {
   "cell_type": "code",
   "execution_count": 5,
   "id": "daaee324",
   "metadata": {},
   "outputs": [
    {
     "name": "stderr",
     "output_type": "stream",
     "text": [
      "<ipython-input-5-d422e2649619>:3: SettingWithCopyWarning: \n",
      "A value is trying to be set on a copy of a slice from a DataFrame.\n",
      "Try using .loc[row_indexer,col_indexer] = value instead\n",
      "\n",
      "See the caveats in the documentation: https://pandas.pydata.org/pandas-docs/stable/user_guide/indexing.html#returning-a-view-versus-a-copy\n",
      "  dft2['is_K'] = dft2['KorBB'].apply(lambda x: 1 if x == \"Strikeout\" else 0)\n",
      "<ipython-input-5-d422e2649619>:4: SettingWithCopyWarning: \n",
      "A value is trying to be set on a copy of a slice from a DataFrame.\n",
      "Try using .loc[row_indexer,col_indexer] = value instead\n",
      "\n",
      "See the caveats in the documentation: https://pandas.pydata.org/pandas-docs/stable/user_guide/indexing.html#returning-a-view-versus-a-copy\n",
      "  dft2['is_uBB'] = dft2.apply(lambda row: 1 if row['KorBB'] == \"Walk\" and (row['Pitch Call'] == \"BallCalled\" or row['Pitch Call'] == \"BallinDirt\") else 0, axis=1)\n",
      "<ipython-input-5-d422e2649619>:5: SettingWithCopyWarning: \n",
      "A value is trying to be set on a copy of a slice from a DataFrame.\n",
      "Try using .loc[row_indexer,col_indexer] = value instead\n",
      "\n",
      "See the caveats in the documentation: https://pandas.pydata.org/pandas-docs/stable/user_guide/indexing.html#returning-a-view-versus-a-copy\n",
      "  dft2['is_HBP'] = dft2['Pitch Call'].apply(lambda x: 1 if x == \"HitByPitch\" else 0)\n",
      "<ipython-input-5-d422e2649619>:6: SettingWithCopyWarning: \n",
      "A value is trying to be set on a copy of a slice from a DataFrame.\n",
      "Try using .loc[row_indexer,col_indexer] = value instead\n",
      "\n",
      "See the caveats in the documentation: https://pandas.pydata.org/pandas-docs/stable/user_guide/indexing.html#returning-a-view-versus-a-copy\n",
      "  dft2['is_1B'] = dft2['Play Result'].apply(lambda x: 1 if x == \"Single\" else 0)\n",
      "<ipython-input-5-d422e2649619>:7: SettingWithCopyWarning: \n",
      "A value is trying to be set on a copy of a slice from a DataFrame.\n",
      "Try using .loc[row_indexer,col_indexer] = value instead\n",
      "\n",
      "See the caveats in the documentation: https://pandas.pydata.org/pandas-docs/stable/user_guide/indexing.html#returning-a-view-versus-a-copy\n",
      "  dft2['is_2B'] = dft2['Play Result'].apply(lambda x: 1 if x == \"Double\" else 0)\n",
      "<ipython-input-5-d422e2649619>:8: SettingWithCopyWarning: \n",
      "A value is trying to be set on a copy of a slice from a DataFrame.\n",
      "Try using .loc[row_indexer,col_indexer] = value instead\n",
      "\n",
      "See the caveats in the documentation: https://pandas.pydata.org/pandas-docs/stable/user_guide/indexing.html#returning-a-view-versus-a-copy\n",
      "  dft2['is_3B'] = dft2['Play Result'].apply(lambda x: 1 if x == \"Triple\" else 0)\n",
      "<ipython-input-5-d422e2649619>:9: SettingWithCopyWarning: \n",
      "A value is trying to be set on a copy of a slice from a DataFrame.\n",
      "Try using .loc[row_indexer,col_indexer] = value instead\n",
      "\n",
      "See the caveats in the documentation: https://pandas.pydata.org/pandas-docs/stable/user_guide/indexing.html#returning-a-view-versus-a-copy\n",
      "  dft2['is_HR'] = dft2['Play Result'].apply(lambda x: 1 if x == \"HomeRun\" else 0)\n",
      "<ipython-input-5-d422e2649619>:10: SettingWithCopyWarning: \n",
      "A value is trying to be set on a copy of a slice from a DataFrame.\n",
      "Try using .loc[row_indexer,col_indexer] = value instead\n",
      "\n",
      "See the caveats in the documentation: https://pandas.pydata.org/pandas-docs/stable/user_guide/indexing.html#returning-a-view-versus-a-copy\n",
      "  dft2['is_iBB'] = dft2.apply(lambda row: 1 if row['KorBB'] == \"Walk\" and row['Pitch Call'] == \"BallIntentional\" else 0, axis=1)\n",
      "<ipython-input-5-d422e2649619>:11: SettingWithCopyWarning: \n",
      "A value is trying to be set on a copy of a slice from a DataFrame.\n",
      "Try using .loc[row_indexer,col_indexer] = value instead\n",
      "\n",
      "See the caveats in the documentation: https://pandas.pydata.org/pandas-docs/stable/user_guide/indexing.html#returning-a-view-versus-a-copy\n",
      "  dft2['is_SF'] = dft2.apply(lambda row: 1 if row['Hit Type'] == \"FlyBall\" and row['Play Result'] == \"Sacrifice\" else 0, axis=1)\n",
      "<ipython-input-5-d422e2649619>:12: SettingWithCopyWarning: \n",
      "A value is trying to be set on a copy of a slice from a DataFrame.\n",
      "Try using .loc[row_indexer,col_indexer] = value instead\n",
      "\n",
      "See the caveats in the documentation: https://pandas.pydata.org/pandas-docs/stable/user_guide/indexing.html#returning-a-view-versus-a-copy\n",
      "  dft2['is_ab'] = dft2.apply(lambda row: 1 if row['Play Result'] in [\"Single\", \"Double\", \"Triple\", \"HomeRun\", \"Strikeout\", \"Error\", \"FieldersChoice\", \"Out\"] or row['KorBB'] in [\"Strikeout\", \"Walk\"] else 0, axis=1)\n"
     ]
    }
   ],
   "source": [
    "dft2 = dft[['Batter', 'Batter Team', 'Pitch Call', 'Play Result', 'Hit Type', 'KorBB']]\n",
    "\n",
    "dft2['is_K'] = dft2['KorBB'].apply(lambda x: 1 if x == \"Strikeout\" else 0)\n",
    "dft2['is_uBB'] = dft2.apply(lambda row: 1 if row['KorBB'] == \"Walk\" and (row['Pitch Call'] == \"BallCalled\" or row['Pitch Call'] == \"BallinDirt\") else 0, axis=1)\n",
    "dft2['is_HBP'] = dft2['Pitch Call'].apply(lambda x: 1 if x == \"HitByPitch\" else 0)\n",
    "dft2['is_1B'] = dft2['Play Result'].apply(lambda x: 1 if x == \"Single\" else 0)\n",
    "dft2['is_2B'] = dft2['Play Result'].apply(lambda x: 1 if x == \"Double\" else 0)\n",
    "dft2['is_3B'] = dft2['Play Result'].apply(lambda x: 1 if x == \"Triple\" else 0)\n",
    "dft2['is_HR'] = dft2['Play Result'].apply(lambda x: 1 if x == \"HomeRun\" else 0)\n",
    "dft2['is_iBB'] = dft2.apply(lambda row: 1 if row['KorBB'] == \"Walk\" and row['Pitch Call'] == \"BallIntentional\" else 0, axis=1)\n",
    "dft2['is_SF'] = dft2.apply(lambda row: 1 if row['Hit Type'] == \"FlyBall\" and row['Play Result'] == \"Sacrifice\" else 0, axis=1)\n",
    "dft2['is_ab'] = dft2.apply(lambda row: 1 if row['Play Result'] in [\"Single\", \"Double\", \"Triple\", \"HomeRun\", \"Strikeout\", \"Error\", \"FieldersChoice\", \"Out\"] or row['KorBB'] in [\"Strikeout\", \"Walk\"] else 0, axis=1)\n",
    "\n",
    "# Group the data by player\n",
    "grouped_data = dft2.groupby('Batter')"
   ]
  },
  {
   "cell_type": "code",
   "execution_count": 6,
   "id": "adea3ff7",
   "metadata": {},
   "outputs": [],
   "source": [
    "# Calculate OPS+ for each player in the league and put it in a dictionary\n",
    "player_ops_plus = {}\n",
    "player_obp_plus = {}\n",
    "player_slug_plus = {}\n",
    "\n",
    "for player, group in grouped_data:\n",
    "    at_bats_league = group['is_ab'].sum()\n",
    "    hits_league = group['is_1B'].sum() + group['is_2B'].sum() + group['is_3B'].sum() + group['is_HR'].sum()\n",
    "    walks_league = group['is_uBB'].sum() + group['is_iBB'].sum()\n",
    "    total_bases_league = group['is_1B'].sum() + 2 * group['is_2B'].sum() + 3 * group['is_3B'].sum() + 4 * group['is_HR'].sum()\n",
    "\n",
    "    on_base_percentage_league = (hits_league + walks_league) / at_bats_league if at_bats_league != 0 else 0\n",
    "    slugging_percentage_league = total_bases_league / at_bats_league if at_bats_league != 0 else 0\n",
    "    ops_league = on_base_percentage_league + slugging_percentage_league\n",
    "    \n",
    "    player_obp_plus[player] = round(on_base_percentage_league, 3)\n",
    "    player_slug_plus[player] = round(slugging_percentage_league, 3)\n",
    "    player_ops_plus[player] = round(ops_league, 3)"
   ]
  },
  {
   "cell_type": "code",
   "execution_count": 7,
   "id": "fcf8ed49",
   "metadata": {},
   "outputs": [],
   "source": [
    "# Create a new DataFrame from player_ops_plus dictionary\n",
    "df_ops = pd.DataFrame.from_dict(player_ops_plus, orient='index', columns=['OPS'])\n",
    "df_obp = pd.DataFrame.from_dict(player_obp_plus, orient='index', columns=['OBP'])\n",
    "df_slug = pd.DataFrame.from_dict(player_slug_plus, orient='index', columns=['SLUG'])\n",
    "\n",
    "\n",
    "# Reset index to convert player names from index to a column\n",
    "df_ops.reset_index(inplace=True)\n",
    "df_ops.rename(columns={'index': 'Player'}, inplace=True)\n",
    "\n",
    "df_slug.reset_index(inplace=True)\n",
    "df_slug.rename(columns={'index': 'Player'}, inplace=True)\n",
    "\n",
    "df_obp.reset_index(inplace=True)\n",
    "df_obp.rename(columns={'index': 'Player'}, inplace=True)\n",
    "\n",
    "# Calculate the average of all player_ops_plus values\n",
    "league_average_ops = np.mean(list(player_ops_plus.values()))\n",
    "league_average_obp = np.mean(list(player_obp_plus.values()))\n",
    "league_average_slug = np.mean(list(player_slug_plus.values()))"
   ]
  },
  {
   "cell_type": "code",
   "execution_count": 8,
   "id": "d8616b1b",
   "metadata": {},
   "outputs": [],
   "source": [
    "dft1 = dft[['Batter', 'Batter Team', 'Pitch Call', 'Play Result', 'Hit Type', 'KorBB']]\n",
    "\n",
    "dft_hya = dft1[(dft1['Batter Team'] == 'Hyannis')]"
   ]
  },
  {
   "cell_type": "code",
   "execution_count": 9,
   "id": "0dad3396",
   "metadata": {},
   "outputs": [],
   "source": [
    "included_players = ['Brody Donay', 'Zach Ehrhard', 'Jonathan Gazdar', 'Elijah Hainline', 'Alex Lane', 'Trey Lipsey', 'Nick Mitchell', 'Bennett Thompson', 'Cameron Smith', 'Eric Snow', 'Will Taylor', 'Zachary Yorke']  # List of players to include\n",
    "\n",
    "dft_hya = dft_hya[dft_hya['Batter'].isin(included_players)]"
   ]
  },
  {
   "cell_type": "code",
   "execution_count": 10,
   "id": "58428da1",
   "metadata": {},
   "outputs": [],
   "source": [
    "dft_hya['is_K'] = dft_hya['KorBB'].apply(lambda x: 1 if x == \"Strikeout\" else 0)\n",
    "dft_hya['is_uBB'] = dft_hya.apply(lambda row: 1 if row['KorBB'] == \"Walk\" and (row['Pitch Call'] == \"BallCalled\" or row['Pitch Call'] == \"BallinDirt\") else 0, axis=1)\n",
    "dft_hya['is_HBP'] = dft_hya['Pitch Call'].apply(lambda x: 1 if x == \"HitByPitch\" else 0)\n",
    "dft_hya['is_1B'] = dft_hya['Play Result'].apply(lambda x: 1 if x == \"Single\" else 0)\n",
    "dft_hya['is_2B'] = dft_hya['Play Result'].apply(lambda x: 1 if x == \"Double\" else 0)\n",
    "dft_hya['is_3B'] = dft_hya['Play Result'].apply(lambda x: 1 if x == \"Triple\" else 0)\n",
    "dft_hya['is_HR'] = dft_hya['Play Result'].apply(lambda x: 1 if x == \"HomeRun\" else 0)\n",
    "dft_hya['is_iBB'] = dft_hya.apply(lambda row: 1 if row['KorBB'] == \"Walk\" and row['Pitch Call'] == \"BallIntentional\" else 0, axis=1)\n",
    "dft_hya['is_SF'] = dft_hya.apply(lambda row: 1 if row['Hit Type'] == \"FlyBall\" and row['Play Result'] == \"Sacrifice\" else 0, axis=1)\n",
    "dft_hya['is_ab'] = dft_hya.apply(lambda row: 1 if row['Play Result'] in [\"Single\", \"Double\", \"Triple\", \"HomeRun\", \"Strikeout\", \"Error\", \"FieldersChoice\", \"Out\"] or row['KorBB'] in [\"Strikeout\", \"Walk\"] else 0, axis=1)\n",
    "\n",
    "# Group the data by player\n",
    "grouped_hyannis_data = dft_hya.groupby('Batter')"
   ]
  },
  {
   "cell_type": "code",
   "execution_count": 11,
   "id": "b5b224c5",
   "metadata": {},
   "outputs": [],
   "source": [
    "# Calculate OPS for each player\n",
    "hyannis_ops_plus = {}\n",
    "hyannis_obp_plus = {}\n",
    "hyannis_slug_plus = {}\n",
    "\n",
    "for player, group in grouped_hyannis_data:\n",
    "    at_bats = group['is_ab'].sum()\n",
    "    hits = group['is_1B'].sum() + group['is_2B'].sum() + group['is_3B'].sum() + group['is_HR'].sum()\n",
    "    walks = group['is_uBB'].sum() + group['is_iBB'].sum()\n",
    "    total_bases = group['is_1B'].sum() + 2 * group['is_2B'].sum() + 3 * group['is_3B'].sum() + 4 * group['is_HR'].sum()\n",
    "\n",
    "    on_base_percentage = (hits + walks) / at_bats if at_bats != 0 else 0\n",
    "    slugging_percentage = total_bases / at_bats if at_bats != 0 else 0\n",
    "    ops = on_base_percentage + slugging_percentage\n",
    "\n",
    "    ops_plus = 100 * (ops/league_average_ops)\n",
    "    slug_plus = 100 * (slugging_percentage/league_average_slug)\n",
    "    obp_plus = 100 * (on_base_percentage/league_average_obp)\n",
    "    \n",
    "    hyannis_slug_plus[player] = slug_plus.round(1)\n",
    "    hyannis_obp_plus[player] = obp_plus.round(1)\n",
    "    hyannis_ops_plus[player] = ops_plus.round(1)\n",
    "    \n",
    "    "
   ]
  },
  {
   "cell_type": "code",
   "execution_count": 12,
   "id": "460c9a91",
   "metadata": {},
   "outputs": [
    {
     "data": {
      "text/plain": [
       "{'Alex Lane': 121.0,\n",
       " 'Bennett Thompson': 135.0,\n",
       " 'Brody Donay': 98.4,\n",
       " 'Cameron Smith': 118.4,\n",
       " 'Elijah Hainline': 95.9,\n",
       " 'Eric Snow': 85.8,\n",
       " 'Jonathan Gazdar': 124.5,\n",
       " 'Nick Mitchell': 107.2,\n",
       " 'Trey Lipsey': 100.3,\n",
       " 'Will Taylor': 97.8,\n",
       " 'Zach Ehrhard': 125.6,\n",
       " 'Zachary Yorke': 61.4}"
      ]
     },
     "execution_count": 12,
     "metadata": {},
     "output_type": "execute_result"
    }
   ],
   "source": [
    "hyannis_obp_plus"
   ]
  },
  {
   "cell_type": "code",
   "execution_count": 13,
   "id": "b7f82876",
   "metadata": {},
   "outputs": [
    {
     "data": {
      "text/plain": [
       "{'Alex Lane': 106.2,\n",
       " 'Bennett Thompson': 82.2,\n",
       " 'Brody Donay': 142.2,\n",
       " 'Cameron Smith': 192.3,\n",
       " 'Elijah Hainline': 82.1,\n",
       " 'Eric Snow': 84.7,\n",
       " 'Jonathan Gazdar': 144.0,\n",
       " 'Nick Mitchell': 139.7,\n",
       " 'Trey Lipsey': 81.4,\n",
       " 'Will Taylor': 109.1,\n",
       " 'Zach Ehrhard': 113.3,\n",
       " 'Zachary Yorke': 68.5}"
      ]
     },
     "execution_count": 13,
     "metadata": {},
     "output_type": "execute_result"
    }
   ],
   "source": [
    "hyannis_slug_plus"
   ]
  },
  {
   "cell_type": "code",
   "execution_count": 14,
   "id": "a9c0b6d6",
   "metadata": {},
   "outputs": [
    {
     "data": {
      "text/plain": [
       "{'Alex Lane': 114.0,\n",
       " 'Bennett Thompson': 110.1,\n",
       " 'Brody Donay': 119.1,\n",
       " 'Cameron Smith': 153.3,\n",
       " 'Elijah Hainline': 89.4,\n",
       " 'Eric Snow': 85.3,\n",
       " 'Jonathan Gazdar': 133.7,\n",
       " 'Nick Mitchell': 122.6,\n",
       " 'Trey Lipsey': 91.3,\n",
       " 'Will Taylor': 103.1,\n",
       " 'Zach Ehrhard': 119.8,\n",
       " 'Zachary Yorke': 64.7}"
      ]
     },
     "execution_count": 14,
     "metadata": {},
     "output_type": "execute_result"
    }
   ],
   "source": [
    "hyannis_ops_plus"
   ]
  },
  {
   "cell_type": "code",
   "execution_count": 20,
   "id": "3cb8dabd",
   "metadata": {},
   "outputs": [],
   "source": [
    "df_ops = df_ops.round(3)\n",
    "df_obp = df_obp.round(3)\n",
    "df_slug = df_slug.round(3)"
   ]
  },
  {
   "cell_type": "code",
   "execution_count": 21,
   "id": "d1a2bb74",
   "metadata": {},
   "outputs": [
    {
     "data": {
      "text/plain": [
       "count    438.000000\n",
       "mean       0.617829\n",
       "std        0.412861\n",
       "min        0.000000\n",
       "25%        0.406000\n",
       "50%        0.600000\n",
       "75%        0.783750\n",
       "max        3.000000\n",
       "Name: OPS, dtype: float64"
      ]
     },
     "execution_count": 21,
     "metadata": {},
     "output_type": "execute_result"
    }
   ],
   "source": [
    "df_ops['OPS'].describe()"
   ]
  },
  {
   "cell_type": "code",
   "execution_count": 22,
   "id": "85a07db3",
   "metadata": {},
   "outputs": [
    {
     "data": {
      "text/plain": [
       "count    438.00000\n",
       "mean       0.32589\n",
       "std        0.19061\n",
       "min        0.00000\n",
       "25%        0.24450\n",
       "50%        0.33300\n",
       "75%        0.40000\n",
       "max        1.00000\n",
       "Name: OBP, dtype: float64"
      ]
     },
     "execution_count": 22,
     "metadata": {},
     "output_type": "execute_result"
    }
   ],
   "source": [
    "df_obp['OBP'].describe()"
   ]
  },
  {
   "cell_type": "code",
   "execution_count": 23,
   "id": "2b0c02f9",
   "metadata": {},
   "outputs": [
    {
     "data": {
      "text/plain": [
       "count    438.000000\n",
       "mean       0.291897\n",
       "std        0.259580\n",
       "min        0.000000\n",
       "25%        0.149500\n",
       "50%        0.251000\n",
       "75%        0.392000\n",
       "max        2.000000\n",
       "Name: SLUG, dtype: float64"
      ]
     },
     "execution_count": 23,
     "metadata": {},
     "output_type": "execute_result"
    }
   ],
   "source": [
    "df_slug['SLUG'].describe()"
   ]
  }
 ],
 "metadata": {
  "kernelspec": {
   "display_name": "Python 3",
   "language": "python",
   "name": "python3"
  },
  "language_info": {
   "codemirror_mode": {
    "name": "ipython",
    "version": 3
   },
   "file_extension": ".py",
   "mimetype": "text/x-python",
   "name": "python",
   "nbconvert_exporter": "python",
   "pygments_lexer": "ipython3",
   "version": "3.8.8"
  }
 },
 "nbformat": 4,
 "nbformat_minor": 5
}
